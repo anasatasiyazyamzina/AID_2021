{
 "cells": [
  {
   "cell_type": "code",
   "execution_count": 48,
   "metadata": {},
   "outputs": [],
   "source": [
    "import numpy as np\n",
    "import pandas as pd\n",
    "import matplotlib.pyplot as plt\n",
    "import seaborn as sns\n",
    "import warnings\n",
    "\n",
    "from sklearn.metrics import matthews_corrcoef\n",
    "\n",
    "warnings.filterwarnings(\"ignore\")\n",
    "np.set_printoptions(precision=3)\n",
    "pd.set_option('precision', 3)"
   ]
  },
  {
   "cell_type": "code",
   "execution_count": 49,
   "metadata": {},
   "outputs": [
    {
     "name": "stdout",
     "output_type": "stream",
     "text": [
      "<class 'pandas.core.frame.DataFrame'>\n",
      "Int64Index: 3591 entries, 0 to 3590\n",
      "Data columns (total 20 columns):\n",
      " #   Column          Non-Null Count  Dtype  \n",
      "---  ------          --------------  -----  \n",
      " 0   Gender          3591 non-null   object \n",
      " 1   Senior          3591 non-null   int64  \n",
      " 2   Married         3591 non-null   object \n",
      " 3   Dependents      3591 non-null   object \n",
      " 4   Tenure          3591 non-null   int64  \n",
      " 5   Phone           3591 non-null   object \n",
      " 6   MultiplePhones  3591 non-null   object \n",
      " 7   Internet        3591 non-null   object \n",
      " 8   Security        3591 non-null   object \n",
      " 9   Backup          3591 non-null   object \n",
      " 10  Insurance       3591 non-null   object \n",
      " 11  Support         3591 non-null   object \n",
      " 12  TV              3591 non-null   object \n",
      " 13  Movies          3591 non-null   object \n",
      " 14  Contract        3591 non-null   object \n",
      " 15  EBilling        3591 non-null   object \n",
      " 16  PaymentMethod   3591 non-null   object \n",
      " 17  MonthlyCharges  3591 non-null   float64\n",
      " 18  TotalCharges    3591 non-null   object \n",
      " 19  Churn           3591 non-null   bool   \n",
      "dtypes: bool(1), float64(1), int64(2), object(16)\n",
      "memory usage: 564.6+ KB\n"
     ]
    }
   ],
   "source": [
    "data = pd.read_csv('train.csv', index_col=0)\n",
    "data.info()"
   ]
  },
  {
   "cell_type": "code",
   "execution_count": 50,
   "metadata": {},
   "outputs": [],
   "source": [
    "#data['Churn'].value_counts().plot(kind='bar')"
   ]
  },
  {
   "cell_type": "code",
   "execution_count": 51,
   "metadata": {},
   "outputs": [
    {
     "data": {
      "text/html": [
       "<div>\n",
       "<style scoped>\n",
       "    .dataframe tbody tr th:only-of-type {\n",
       "        vertical-align: middle;\n",
       "    }\n",
       "\n",
       "    .dataframe tbody tr th {\n",
       "        vertical-align: top;\n",
       "    }\n",
       "\n",
       "    .dataframe thead th {\n",
       "        text-align: right;\n",
       "    }\n",
       "</style>\n",
       "<table border=\"1\" class=\"dataframe\">\n",
       "  <thead>\n",
       "    <tr style=\"text-align: right;\">\n",
       "      <th></th>\n",
       "      <th>Senior</th>\n",
       "      <th>Tenure</th>\n",
       "      <th>MonthlyCharges</th>\n",
       "    </tr>\n",
       "    <tr>\n",
       "      <th>Index</th>\n",
       "      <th></th>\n",
       "      <th></th>\n",
       "      <th></th>\n",
       "    </tr>\n",
       "  </thead>\n",
       "  <tbody>\n",
       "    <tr>\n",
       "      <th>2376</th>\n",
       "      <td>0</td>\n",
       "      <td>62</td>\n",
       "      <td>24.40</td>\n",
       "    </tr>\n",
       "    <tr>\n",
       "      <th>3274</th>\n",
       "      <td>0</td>\n",
       "      <td>17</td>\n",
       "      <td>24.10</td>\n",
       "    </tr>\n",
       "    <tr>\n",
       "      <th>3302</th>\n",
       "      <td>1</td>\n",
       "      <td>6</td>\n",
       "      <td>98.25</td>\n",
       "    </tr>\n",
       "    <tr>\n",
       "      <th>1562</th>\n",
       "      <td>0</td>\n",
       "      <td>14</td>\n",
       "      <td>80.90</td>\n",
       "    </tr>\n",
       "    <tr>\n",
       "      <th>1419</th>\n",
       "      <td>0</td>\n",
       "      <td>47</td>\n",
       "      <td>20.25</td>\n",
       "    </tr>\n",
       "  </tbody>\n",
       "</table>\n",
       "</div>"
      ],
      "text/plain": [
       "       Senior  Tenure  MonthlyCharges\n",
       "Index                                \n",
       "2376        0      62           24.40\n",
       "3274        0      17           24.10\n",
       "3302        1       6           98.25\n",
       "1562        0      14           80.90\n",
       "1419        0      47           20.25"
      ]
     },
     "execution_count": 51,
     "metadata": {},
     "output_type": "execute_result"
    }
   ],
   "source": [
    "numeric_data = data.select_dtypes(include=np.number)\n",
    "numeric_data.sample(5)"
   ]
  },
  {
   "cell_type": "code",
   "execution_count": 52,
   "metadata": {},
   "outputs": [
    {
     "name": "stdout",
     "output_type": "stream",
     "text": [
      "<class 'pandas.core.frame.DataFrame'>\n",
      "Int64Index: 3591 entries, 0 to 3590\n",
      "Data columns (total 20 columns):\n",
      " #   Column          Non-Null Count  Dtype  \n",
      "---  ------          --------------  -----  \n",
      " 0   Gender          3591 non-null   object \n",
      " 1   Senior          3591 non-null   int64  \n",
      " 2   Married         3591 non-null   object \n",
      " 3   Dependents      3591 non-null   object \n",
      " 4   Tenure          3591 non-null   int64  \n",
      " 5   Phone           3591 non-null   object \n",
      " 6   MultiplePhones  3591 non-null   object \n",
      " 7   Internet        3591 non-null   object \n",
      " 8   Security        3591 non-null   object \n",
      " 9   Backup          3591 non-null   object \n",
      " 10  Insurance       3591 non-null   object \n",
      " 11  Support         3591 non-null   object \n",
      " 12  TV              3591 non-null   object \n",
      " 13  Movies          3591 non-null   object \n",
      " 14  Contract        3591 non-null   object \n",
      " 15  EBilling        3591 non-null   object \n",
      " 16  PaymentMethod   3591 non-null   object \n",
      " 17  MonthlyCharges  3591 non-null   float64\n",
      " 18  TotalCharges    3591 non-null   float64\n",
      " 19  Churn           3591 non-null   bool   \n",
      "dtypes: bool(1), float64(2), int64(2), object(15)\n",
      "memory usage: 564.6+ KB\n"
     ]
    }
   ],
   "source": [
    "data.TotalCharges.value_counts().head(10)\n",
    "data.TotalCharges = data.TotalCharges.replace(' ', 0).astype(float)\n",
    "data.info()"
   ]
  },
  {
   "cell_type": "code",
   "execution_count": 53,
   "metadata": {},
   "outputs": [
    {
     "data": {
      "text/html": [
       "<div>\n",
       "<style scoped>\n",
       "    .dataframe tbody tr th:only-of-type {\n",
       "        vertical-align: middle;\n",
       "    }\n",
       "\n",
       "    .dataframe tbody tr th {\n",
       "        vertical-align: top;\n",
       "    }\n",
       "\n",
       "    .dataframe thead th {\n",
       "        text-align: right;\n",
       "    }\n",
       "</style>\n",
       "<table border=\"1\" class=\"dataframe\">\n",
       "  <thead>\n",
       "    <tr style=\"text-align: right;\">\n",
       "      <th></th>\n",
       "      <th>Senior</th>\n",
       "      <th>Tenure</th>\n",
       "      <th>MonthlyCharges</th>\n",
       "      <th>TotalCharges</th>\n",
       "    </tr>\n",
       "    <tr>\n",
       "      <th>Index</th>\n",
       "      <th></th>\n",
       "      <th></th>\n",
       "      <th></th>\n",
       "      <th></th>\n",
       "    </tr>\n",
       "  </thead>\n",
       "  <tbody>\n",
       "    <tr>\n",
       "      <th>2854</th>\n",
       "      <td>0</td>\n",
       "      <td>71</td>\n",
       "      <td>71.10</td>\n",
       "      <td>5224.95</td>\n",
       "    </tr>\n",
       "    <tr>\n",
       "      <th>1458</th>\n",
       "      <td>0</td>\n",
       "      <td>49</td>\n",
       "      <td>103.70</td>\n",
       "      <td>5036.30</td>\n",
       "    </tr>\n",
       "    <tr>\n",
       "      <th>1032</th>\n",
       "      <td>0</td>\n",
       "      <td>5</td>\n",
       "      <td>40.00</td>\n",
       "      <td>223.45</td>\n",
       "    </tr>\n",
       "    <tr>\n",
       "      <th>50</th>\n",
       "      <td>0</td>\n",
       "      <td>17</td>\n",
       "      <td>19.65</td>\n",
       "      <td>351.55</td>\n",
       "    </tr>\n",
       "    <tr>\n",
       "      <th>1629</th>\n",
       "      <td>0</td>\n",
       "      <td>21</td>\n",
       "      <td>111.20</td>\n",
       "      <td>2317.10</td>\n",
       "    </tr>\n",
       "  </tbody>\n",
       "</table>\n",
       "</div>"
      ],
      "text/plain": [
       "       Senior  Tenure  MonthlyCharges  TotalCharges\n",
       "Index                                              \n",
       "2854        0      71           71.10       5224.95\n",
       "1458        0      49          103.70       5036.30\n",
       "1032        0       5           40.00        223.45\n",
       "50          0      17           19.65        351.55\n",
       "1629        0      21          111.20       2317.10"
      ]
     },
     "execution_count": 53,
     "metadata": {},
     "output_type": "execute_result"
    }
   ],
   "source": [
    "numeric_data = data.select_dtypes(include=np.number)\n",
    "numeric_data.sample(5)"
   ]
  },
  {
   "cell_type": "code",
   "execution_count": 151,
   "metadata": {},
   "outputs": [],
   "source": [
    "def dataPrepare(data):\n",
    "    data = data.drop('Phone', axis=1)\n",
    "    data = data.replace({'Yes': 1, 'No': 0, 'No internet service': -1,'No phone service':-1\\\n",
    "                      ,'Month-to-month':-1,'Two year':1,'One year':0\\\n",
    "                    })\n",
    "    data = data.replace({'Gender': {'Female': 0, 'Male': 1}})\n",
    "    data['TotalCharges'] =data['TotalCharges'].replace(regex=r'^(\\D+)$', value=0).astype(float)\n",
    "    #data['Internet'] = data['Internet'].replace({'Fiber optic':1,'DSL':0,0:-1})\n",
    "   # data = pd.concat([data.drop(['PaymentMethod'], axis=1), \n",
    "                            # pd.get_dummies(data['PaymentMethod'])\n",
    "                          #  ], axis = 1)\n",
    "    return data"
   ]
  },
  {
   "cell_type": "code",
   "execution_count": 44,
   "metadata": {},
   "outputs": [],
   "source": [
    "def dataPrepare(data):\n",
    "    data_to_train = data.replace({'Phone': {'Yes': 1, 'No': 0},\n",
    "                     'Backup': {'Yes': 1 , 'No': 0, 'No internet service': 0},\n",
    "                     'Insurance': {'Yes': 1 , 'No': 0, 'No internet service': 0},\n",
    "                     'Movies': {'Yes': 1 , 'No': 0, 'No internet service': 0},\n",
    "                     'TV': {'Yes': 1 , 'No': 0, 'No internet service': 0},\n",
    "                    'EBilling':{'Yes': 1, 'No': 0}, \n",
    "                    'Contract' :{'Month-to-month':-1,'Two year':1,'One year':0}\n",
    "                    }) \n",
    "    return data_to_train\n",
    "training_data = dataPrepare(data)  "
   ]
  },
  {
   "cell_type": "code",
   "execution_count": 152,
   "metadata": {},
   "outputs": [],
   "source": [
    "training_data = dataPrepare(data)\n",
    "data = pd.read_csv('train.csv', index_col=0)\n",
    "data_to_train = data.replace({#'Gender': {'Female': 1, 'Male': 0}, \n",
    "                     'Married': {'Yes': 1, 'No': 0}, \n",
    "                     'Phone': {'Yes': 1, 'No': 0},\n",
    "                     'Backup': {'Yes': 1 , 'No': 0, 'No internet service': 0},\n",
    "                     'Insurance': {'Yes': 1 , 'No': 0, 'No internet service': 0},\n",
    "                     'Movies': {'Yes': 1 , 'No': 0, 'No internet service': 0},\n",
    "                     'TV': {'Yes': 1 , 'No': 0, 'No internet service': 0},\n",
    "                    'EBilling':{'Yes': 1, 'No': 0}, \n",
    "                    'Contract' :{'Month-to-month':1,'One year': 2, 'Two year': 3}\n",
    "                    }) \n",
    "                    \n"
   ]
  },
  {
   "cell_type": "code",
   "execution_count": null,
   "metadata": {},
   "outputs": [],
   "source": [
    "data_to_train = data.replace({'Yes': 1, 'No': 0, 'No internet service': -1,'No phone service':-1\\\n",
    "                      ,'Month-to-month':-1,'Two year':1,'One year':0\\\n",
    "                    })\n",
    "data_to_train = data_to_train.replace({'Gender': {'Female': 1, 'Male': 0}})\n",
    "data_to_train['TotalCharges'] = data_to_train['TotalCharges'].replace(regex=r'^(\\D+)$',value=0).astype(float)\n",
    "data_to_train = pd.concat([data_to_train.drop(['PaymentMethod'], axis=1), \n",
    "                             pd.get_dummies(data_to_train['PaymentMethod'])\n",
    "                            ], axis = 1)"
   ]
  },
  {
   "cell_type": "code",
   "execution_count": 54,
   "metadata": {},
   "outputs": [
    {
     "data": {
      "text/html": [
       "<div>\n",
       "<style scoped>\n",
       "    .dataframe tbody tr th:only-of-type {\n",
       "        vertical-align: middle;\n",
       "    }\n",
       "\n",
       "    .dataframe tbody tr th {\n",
       "        vertical-align: top;\n",
       "    }\n",
       "\n",
       "    .dataframe thead th {\n",
       "        text-align: right;\n",
       "    }\n",
       "</style>\n",
       "<table border=\"1\" class=\"dataframe\">\n",
       "  <thead>\n",
       "    <tr style=\"text-align: right;\">\n",
       "      <th></th>\n",
       "      <th>Senior</th>\n",
       "      <th>Tenure</th>\n",
       "      <th>Phone</th>\n",
       "      <th>Backup</th>\n",
       "      <th>Insurance</th>\n",
       "      <th>TV</th>\n",
       "      <th>Movies</th>\n",
       "      <th>Contract</th>\n",
       "      <th>EBilling</th>\n",
       "      <th>MonthlyCharges</th>\n",
       "      <th>TotalCharges</th>\n",
       "    </tr>\n",
       "    <tr>\n",
       "      <th>Index</th>\n",
       "      <th></th>\n",
       "      <th></th>\n",
       "      <th></th>\n",
       "      <th></th>\n",
       "      <th></th>\n",
       "      <th></th>\n",
       "      <th></th>\n",
       "      <th></th>\n",
       "      <th></th>\n",
       "      <th></th>\n",
       "      <th></th>\n",
       "    </tr>\n",
       "  </thead>\n",
       "  <tbody>\n",
       "    <tr>\n",
       "      <th>3283</th>\n",
       "      <td>0</td>\n",
       "      <td>47</td>\n",
       "      <td>0</td>\n",
       "      <td>0</td>\n",
       "      <td>1</td>\n",
       "      <td>0</td>\n",
       "      <td>0</td>\n",
       "      <td>0</td>\n",
       "      <td>0</td>\n",
       "      <td>40.30</td>\n",
       "      <td>1794.80</td>\n",
       "    </tr>\n",
       "    <tr>\n",
       "      <th>2299</th>\n",
       "      <td>1</td>\n",
       "      <td>52</td>\n",
       "      <td>1</td>\n",
       "      <td>0</td>\n",
       "      <td>1</td>\n",
       "      <td>1</td>\n",
       "      <td>1</td>\n",
       "      <td>-1</td>\n",
       "      <td>1</td>\n",
       "      <td>104.20</td>\n",
       "      <td>5568.35</td>\n",
       "    </tr>\n",
       "    <tr>\n",
       "      <th>167</th>\n",
       "      <td>0</td>\n",
       "      <td>61</td>\n",
       "      <td>1</td>\n",
       "      <td>0</td>\n",
       "      <td>0</td>\n",
       "      <td>0</td>\n",
       "      <td>0</td>\n",
       "      <td>1</td>\n",
       "      <td>0</td>\n",
       "      <td>19.75</td>\n",
       "      <td>1311.60</td>\n",
       "    </tr>\n",
       "    <tr>\n",
       "      <th>3445</th>\n",
       "      <td>1</td>\n",
       "      <td>67</td>\n",
       "      <td>1</td>\n",
       "      <td>0</td>\n",
       "      <td>1</td>\n",
       "      <td>1</td>\n",
       "      <td>1</td>\n",
       "      <td>0</td>\n",
       "      <td>1</td>\n",
       "      <td>107.05</td>\n",
       "      <td>7142.50</td>\n",
       "    </tr>\n",
       "    <tr>\n",
       "      <th>1452</th>\n",
       "      <td>0</td>\n",
       "      <td>25</td>\n",
       "      <td>1</td>\n",
       "      <td>0</td>\n",
       "      <td>0</td>\n",
       "      <td>0</td>\n",
       "      <td>0</td>\n",
       "      <td>-1</td>\n",
       "      <td>1</td>\n",
       "      <td>19.20</td>\n",
       "      <td>532.10</td>\n",
       "    </tr>\n",
       "  </tbody>\n",
       "</table>\n",
       "</div>"
      ],
      "text/plain": [
       "       Senior  Tenure  Phone  Backup  Insurance  TV  Movies  Contract  \\\n",
       "Index                                                                   \n",
       "3283        0      47      0       0          1   0       0         0   \n",
       "2299        1      52      1       0          1   1       1        -1   \n",
       "167         0      61      1       0          0   0       0         1   \n",
       "3445        1      67      1       0          1   1       1         0   \n",
       "1452        0      25      1       0          0   0       0        -1   \n",
       "\n",
       "       EBilling  MonthlyCharges  TotalCharges  \n",
       "Index                                          \n",
       "3283          0           40.30       1794.80  \n",
       "2299          1          104.20       5568.35  \n",
       "167           0           19.75       1311.60  \n",
       "3445          1          107.05       7142.50  \n",
       "1452          1           19.20        532.10  "
      ]
     },
     "execution_count": 54,
     "metadata": {},
     "output_type": "execute_result"
    }
   ],
   "source": [
    "numeric_data = training_data.select_dtypes(include=np.number)\n",
    "numeric_data.sample(5)"
   ]
  },
  {
   "cell_type": "code",
   "execution_count": 55,
   "metadata": {},
   "outputs": [
    {
     "data": {
      "text/plain": [
       "<AxesSubplot:xlabel='TotalCharges'>"
      ]
     },
     "execution_count": 55,
     "metadata": {},
     "output_type": "execute_result"
    },
    {
     "data": {
      "image/png": "[encoded data removed]",
      "text/plain": [
       "<Figure size 432x288 with 1 Axes>"
      ]
     },
     "metadata": {
      "needs_background": "light"
     },
     "output_type": "display_data"
    }
   ],
   "source": [
    "#data['MonthlyCharges'].describe()\n",
    "data['TotalCharges'] =data['TotalCharges'].replace(regex=r'^(\\D+)$', value=0).astype(float)\n",
    "data['TotalCharges'].astype(float).describe()\n",
    "sns.boxplot(x = data['TotalCharges'])"
   ]
  },
  {
   "cell_type": "code",
   "execution_count": 56,
   "metadata": {},
   "outputs": [],
   "source": [
    "from sklearn import preprocessing\n",
    "import numpy as np"
   ]
  },
  {
   "cell_type": "code",
   "execution_count": 57,
   "metadata": {},
   "outputs": [
    {
     "data": {
      "text/plain": [
       "<AxesSubplot:>"
      ]
     },
     "execution_count": 57,
     "metadata": {},
     "output_type": "execute_result"
    },
    {
     "data": {
      "image/png": "[encoded data removed]",
      "text/plain": [
       "<Figure size 576x360 with 2 Axes>"
      ]
     },
     "metadata": {
      "needs_background": "light"
     },
     "output_type": "display_data"
    }
   ],
   "source": [
    "#to_plot = numeric_data.drop(['Electronic check', 'Bank transfer (automatic)', 'Credit card (automatic)', 'Mailed check'])\n",
    "plt.figure(figsize=(8,5))\n",
    "sns.heatmap(data[numeric_data.columns.tolist() + ['Churn']].corr(method = 'spearman'), cmap='coolwarm', annot = True)"
   ]
  },
  {
   "cell_type": "code",
   "execution_count": 58,
   "metadata": {},
   "outputs": [],
   "source": [
    "from sklearn.model_selection import train_test_split\n",
    "#this all data is for training 2395\n",
    "X_train, X_test, Y_train, Y_test = train_test_split(X_scaled, \n",
    "                                                    data.Churn,\n",
    "                                                    test_size = 0.333,\n",
    "                                                    random_state = 1)\n",
    "data2 = pd.read_csv('test.csv', index_col=0)\n",
    "#X_train.info()"
   ]
  },
  {
   "cell_type": "code",
   "execution_count": 59,
   "metadata": {},
   "outputs": [],
   "source": [
    "from sklearn.dummy import DummyClassifier\n",
    "\n",
    "dummy = DummyClassifier(strategy='most_frequent')\n",
    "dummy.fit(X_train, Y_train)\n",
    "\n",
    "dummy_predictions = dummy.predict(X_train)\n"
   ]
  },
  {
   "cell_type": "code",
   "execution_count": 60,
   "metadata": {},
   "outputs": [],
   "source": [
    "from sklearn.metrics import classification_report, plot_confusion_matrix\n",
    "\n",
    "#print (classification_report(Y_train, dummy_predictions))\n",
    "\n",
    "#plot_confusion_matrix(estimator=dummy, X= X_train, y_true=Y_train)"
   ]
  },
  {
   "cell_type": "code",
   "execution_count": 61,
   "metadata": {},
   "outputs": [],
   "source": [
    "#print (classification_report(Y_test, dummy.predict(X_test)))\n",
    "\n",
    "#plot_confusion_matrix(estimator=dummy, X= X_test, y_true=Y_test)"
   ]
  },
  {
   "cell_type": "code",
   "execution_count": 62,
   "metadata": {},
   "outputs": [
    {
     "name": "stdout",
     "output_type": "stream",
     "text": [
      "Train evaluation\n",
      "              precision    recall  f1-score   support\n",
      "\n",
      "       False       1.00      1.00      1.00      1740\n",
      "        True       1.00      0.99      0.99       655\n",
      "\n",
      "    accuracy                           1.00      2395\n",
      "   macro avg       1.00      0.99      1.00      2395\n",
      "weighted avg       1.00      1.00      1.00      2395\n",
      "\n"
     ]
    },
    {
     "data": {
      "text/plain": [
       "<sklearn.metrics._plot.confusion_matrix.ConfusionMatrixDisplay at 0x2376cd9c580>"
      ]
     },
     "execution_count": 62,
     "metadata": {},
     "output_type": "execute_result"
    },
    {
     "data": {
      "image/png": "[encoded data removed]",
      "text/plain": [
       "<Figure size 432x288 with 2 Axes>"
      ]
     },
     "metadata": {
      "needs_background": "light"
     },
     "output_type": "display_data"
    }
   ],
   "source": [
    "from sklearn.tree import DecisionTreeClassifier\n",
    "\n",
    "dt = DecisionTreeClassifier()\n",
    "\n",
    "dt.fit(X_train, Y_train)\n",
    "\n",
    "dt_train_predictions = dt.predict (X_train)\n",
    "\n",
    "print('Train evaluation')\n",
    "print(classification_report(Y_train, dt_train_predictions))\n",
    "plot_confusion_matrix(estimator = dt, X= X_train, y_true=Y_train)\n"
   ]
  },
  {
   "cell_type": "code",
   "execution_count": 63,
   "metadata": {},
   "outputs": [
    {
     "name": "stdout",
     "output_type": "stream",
     "text": [
      "Tree depth: 21\n"
     ]
    },
    {
     "data": {
      "text/plain": [
       "<Figure size 5000x4000 with 0 Axes>"
      ]
     },
     "metadata": {},
     "output_type": "display_data"
    }
   ],
   "source": [
    "from sklearn.tree import plot_tree\n",
    "\n",
    "print (f'Tree depth: {dt.get_depth()}')\n",
    "fig = plt.figure(figsize=(25, 20), dpi=200)\n",
    "\n",
    "#plot_tree(dt, filled=True, ax=fig.gca(), fontsize='small');"
   ]
  },
  {
   "cell_type": "code",
   "execution_count": 91,
   "metadata": {},
   "outputs": [
    {
     "name": "stdout",
     "output_type": "stream",
     "text": [
      "Test evaluation\n",
      "              precision    recall  f1-score   support\n",
      "\n",
      "       False       0.94      0.94      0.94       871\n",
      "        True       0.84      0.84      0.84       325\n",
      "\n",
      "    accuracy                           0.91      1196\n",
      "   macro avg       0.89      0.89      0.89      1196\n",
      "weighted avg       0.91      0.91      0.91      1196\n",
      "\n"
     ]
    }
   ],
   "source": [
    "dt_test_predictions = dt.predict(X_test)\n",
    "\n",
    "print('Test evaluation')\n",
    "print(classification_report(Y_test, dt_test_predictions))\n",
    "\n",
    "#plot_confusion_matrix(estimator = dt, X= X_test, y_true=Y_test)"
   ]
  },
  {
   "cell_type": "code",
   "execution_count": 100,
   "metadata": {},
   "outputs": [
    {
     "name": "stdout",
     "output_type": "stream",
     "text": [
      "Tree depth: 12\n",
      "Train evaluation\n",
      "0.5682138563629556\n",
      "Test evaluation\n",
      "              precision    recall  f1-score   support\n",
      "\n",
      "       False       0.82      0.89      0.85       871\n",
      "        True       0.61      0.47      0.53       325\n",
      "\n",
      "    accuracy                           0.77      1196\n",
      "   macro avg       0.71      0.68      0.69      1196\n",
      "weighted avg       0.76      0.77      0.76      1196\n",
      "\n"
     ]
    },
    {
     "data": {
      "text/plain": [
       "0.38954943491431027"
      ]
     },
     "execution_count": 100,
     "metadata": {},
     "output_type": "execute_result"
    }
   ],
   "source": [
    "smart_dt = DecisionTreeClassifier(min_samples_leaf = 13, max_depth = 12).fit(X_train, Y_train)\n",
    "print (f'Tree depth: {smart_dt.get_depth()}')\n",
    "\n",
    "print('Train evaluation')\n",
    "sdt_train_predictions = smart_dt.predict (X_train)\n",
    "#print(classification_report(Y_train, sdt_train_predictions))\n",
    "print(matthews_corrcoef(Y_train,sdt_train_predictions))\n",
    "\n",
    "print('Test evaluation')\n",
    "sdt_test_predictions = smart_dt.predict (X_test)\n",
    "print(classification_report(Y_test, sdt_test_predictions))\n",
    "matthews_corrcoef(Y_test,sdt_test_predictions)"
   ]
  },
  {
   "cell_type": "code",
   "execution_count": 82,
   "metadata": {},
   "outputs": [
    {
     "name": "stdout",
     "output_type": "stream",
     "text": [
      "Fitting 5 folds for each of 16 candidates, totalling 80 fits\n"
     ]
    }
   ],
   "source": [
    "from sklearn.model_selection import GridSearchCV, StratifiedKFold\n",
    "\n",
    "tree_params = {'min_samples_leaf': [40,17,10,28],\n",
    "               'max_depth': [15,17,19,23],\n",
    "               'criterion': ['gini', 'entropy']              \n",
    "              }\n",
    "\n",
    "grid = GridSearchCV(DecisionTreeClassifier(),\n",
    "                    tree_params,\n",
    "                    refit=True,\n",
    "                    scoring='f1_macro',\n",
    "                    n_jobs = -1,\n",
    "                    cv=StratifiedKFold(n_splits = 5),\n",
    "                    verbose=2\n",
    "                   )\n",
    "\n",
    "grid_best_model = grid.fit(X_train, Y_train)"
   ]
  },
  {
   "cell_type": "code",
   "execution_count": 83,
   "metadata": {},
   "outputs": [
    {
     "data": {
      "text/plain": [
       "0.6941983804056244"
      ]
     },
     "execution_count": 83,
     "metadata": {},
     "output_type": "execute_result"
    }
   ],
   "source": [
    "grid.best_score_"
   ]
  },
  {
   "cell_type": "code",
   "execution_count": 84,
   "metadata": {},
   "outputs": [
    {
     "data": {
      "text/plain": [
       "{'criterion': 'gini', 'max_depth': 15, 'min_samples_leaf': 40}"
      ]
     },
     "execution_count": 84,
     "metadata": {},
     "output_type": "execute_result"
    }
   ],
   "source": [
    "grid.best_params_"
   ]
  },
  {
   "cell_type": "code",
   "execution_count": 85,
   "metadata": {},
   "outputs": [
    {
     "name": "stdout",
     "output_type": "stream",
     "text": [
      "Train evaluation\n",
      "              precision    recall  f1-score   support\n",
      "\n",
      "       False       0.83      0.92      0.87      1740\n",
      "        True       0.69      0.50      0.58       655\n",
      "\n",
      "    accuracy                           0.80      2395\n",
      "   macro avg       0.76      0.71      0.73      2395\n",
      "weighted avg       0.79      0.80      0.79      2395\n",
      "\n",
      "0.4666919960197306\n",
      "Test evaluation\n",
      "              precision    recall  f1-score   support\n",
      "\n",
      "       False       0.84      0.90      0.87       899\n",
      "        True       0.62      0.49      0.55       297\n",
      "\n",
      "    accuracy                           0.80      1196\n",
      "   macro avg       0.73      0.70      0.71      1196\n",
      "weighted avg       0.79      0.80      0.79      1196\n",
      "\n"
     ]
    },
    {
     "data": {
      "text/plain": [
       "0.4277029052426911"
      ]
     },
     "execution_count": 85,
     "metadata": {},
     "output_type": "execute_result"
    }
   ],
   "source": [
    "print('Train evaluation')\n",
    "gbm_train_predictions = grid_best_model.predict (X_train)\n",
    "print(classification_report(Y_train, gbm_train_predictions))\n",
    "print(matthews_corrcoef(Y_train, gbm_train_predictions))\n",
    "print('Test evaluation')\n",
    "gbm_test_predictions = grid_best_model.predict (X_test)\n",
    "print(classification_report(Y_test, gbm_test_predictions))\n",
    "matthews_corrcoef(Y_test,gbm_test_predictions)"
   ]
  },
  {
   "cell_type": "code",
   "execution_count": 86,
   "metadata": {},
   "outputs": [
    {
     "name": "stdout",
     "output_type": "stream",
     "text": [
      "Train evaluation\n",
      "              precision    recall  f1-score   support\n",
      "\n",
      "       False       0.83      0.89      0.86      1740\n",
      "        True       0.64      0.52      0.58       655\n",
      "\n",
      "    accuracy                           0.79      2395\n",
      "   macro avg       0.74      0.71      0.72      2395\n",
      "weighted avg       0.78      0.79      0.78      2395\n",
      "\n"
     ]
    },
    {
     "data": {
      "text/plain": [
       "0.4409912503600239"
      ]
     },
     "execution_count": 86,
     "metadata": {},
     "output_type": "execute_result"
    }
   ],
   "source": [
    "from sklearn.linear_model import LogisticRegression\n",
    "from sklearn.model_selection import cross_val_predict\n",
    "from sklearn.metrics import confusion_matrix\n",
    "\n",
    "lr = LogisticRegression()\n",
    "\n",
    "cv_lr_predictions = cross_val_predict(lr, X_train, Y_train, cv = 5, n_jobs = -1)\n",
    "\n",
    "print('Train evaluation')\n",
    "print(classification_report(Y_train, cv_lr_predictions))\n",
    "\n",
    "\n",
    "matthews_corrcoef(Y_train, cv_lr_predictions)"
   ]
  },
  {
   "cell_type": "code",
   "execution_count": 87,
   "metadata": {},
   "outputs": [
    {
     "name": "stdout",
     "output_type": "stream",
     "text": [
      "Test evaluation\n"
     ]
    },
    {
     "data": {
      "text/plain": [
       "0.46835483963260915"
      ]
     },
     "execution_count": 87,
     "metadata": {},
     "output_type": "execute_result"
    }
   ],
   "source": [
    "lr = LogisticRegression().fit(X_train, Y_train)\n",
    "print('Test evaluation')\n",
    "lr_test_predictions = lr.predict(X_test)\n",
    "#print(classification_report(Y_train, lr_test_predictions))\n",
    "matthews_corrcoef(Y_test, lr_test_predictions)"
   ]
  },
  {
   "cell_type": "code",
   "execution_count": null,
   "metadata": {},
   "outputs": [],
   "source": []
  },
  {
   "cell_type": "code",
   "execution_count": null,
   "metadata": {},
   "outputs": [],
   "source": []
  },
  {
   "cell_type": "code",
   "execution_count": 88,
   "metadata": {},
   "outputs": [
    {
     "data": {
      "text/html": [
       "<div>\n",
       "<style scoped>\n",
       "    .dataframe tbody tr th:only-of-type {\n",
       "        vertical-align: middle;\n",
       "    }\n",
       "\n",
       "    .dataframe tbody tr th {\n",
       "        vertical-align: top;\n",
       "    }\n",
       "\n",
       "    .dataframe thead th {\n",
       "        text-align: right;\n",
       "    }\n",
       "</style>\n",
       "<table border=\"1\" class=\"dataframe\">\n",
       "  <thead>\n",
       "    <tr style=\"text-align: right;\">\n",
       "      <th></th>\n",
       "      <th>Gender</th>\n",
       "      <th>Married</th>\n",
       "      <th>Dependents</th>\n",
       "      <th>Phone</th>\n",
       "      <th>MultiplePhones</th>\n",
       "      <th>Internet</th>\n",
       "      <th>Security</th>\n",
       "      <th>Backup</th>\n",
       "      <th>Insurance</th>\n",
       "      <th>Support</th>\n",
       "      <th>TV</th>\n",
       "      <th>Movies</th>\n",
       "      <th>Contract</th>\n",
       "      <th>EBilling</th>\n",
       "      <th>PaymentMethod</th>\n",
       "      <th>Churn</th>\n",
       "    </tr>\n",
       "    <tr>\n",
       "      <th>Index</th>\n",
       "      <th></th>\n",
       "      <th></th>\n",
       "      <th></th>\n",
       "      <th></th>\n",
       "      <th></th>\n",
       "      <th></th>\n",
       "      <th></th>\n",
       "      <th></th>\n",
       "      <th></th>\n",
       "      <th></th>\n",
       "      <th></th>\n",
       "      <th></th>\n",
       "      <th></th>\n",
       "      <th></th>\n",
       "      <th></th>\n",
       "      <th></th>\n",
       "    </tr>\n",
       "  </thead>\n",
       "  <tbody>\n",
       "    <tr>\n",
       "      <th>585</th>\n",
       "      <td>Female</td>\n",
       "      <td>Yes</td>\n",
       "      <td>Yes</td>\n",
       "      <td>Yes</td>\n",
       "      <td>Yes</td>\n",
       "      <td>Fiber optic</td>\n",
       "      <td>Yes</td>\n",
       "      <td>Yes</td>\n",
       "      <td>No</td>\n",
       "      <td>Yes</td>\n",
       "      <td>Yes</td>\n",
       "      <td>Yes</td>\n",
       "      <td>Two year</td>\n",
       "      <td>No</td>\n",
       "      <td>Bank transfer (automatic)</td>\n",
       "      <td>False</td>\n",
       "    </tr>\n",
       "    <tr>\n",
       "      <th>1458</th>\n",
       "      <td>Male</td>\n",
       "      <td>No</td>\n",
       "      <td>No</td>\n",
       "      <td>Yes</td>\n",
       "      <td>Yes</td>\n",
       "      <td>Fiber optic</td>\n",
       "      <td>No</td>\n",
       "      <td>Yes</td>\n",
       "      <td>Yes</td>\n",
       "      <td>No</td>\n",
       "      <td>Yes</td>\n",
       "      <td>Yes</td>\n",
       "      <td>Month-to-month</td>\n",
       "      <td>Yes</td>\n",
       "      <td>Bank transfer (automatic)</td>\n",
       "      <td>True</td>\n",
       "    </tr>\n",
       "    <tr>\n",
       "      <th>3554</th>\n",
       "      <td>Male</td>\n",
       "      <td>No</td>\n",
       "      <td>No</td>\n",
       "      <td>No</td>\n",
       "      <td>No phone service</td>\n",
       "      <td>DSL</td>\n",
       "      <td>Yes</td>\n",
       "      <td>No</td>\n",
       "      <td>Yes</td>\n",
       "      <td>Yes</td>\n",
       "      <td>No</td>\n",
       "      <td>No</td>\n",
       "      <td>Month-to-month</td>\n",
       "      <td>No</td>\n",
       "      <td>Mailed check</td>\n",
       "      <td>False</td>\n",
       "    </tr>\n",
       "    <tr>\n",
       "      <th>1615</th>\n",
       "      <td>Male</td>\n",
       "      <td>No</td>\n",
       "      <td>No</td>\n",
       "      <td>Yes</td>\n",
       "      <td>Yes</td>\n",
       "      <td>No</td>\n",
       "      <td>No internet service</td>\n",
       "      <td>No internet service</td>\n",
       "      <td>No internet service</td>\n",
       "      <td>No internet service</td>\n",
       "      <td>No internet service</td>\n",
       "      <td>No internet service</td>\n",
       "      <td>Two year</td>\n",
       "      <td>Yes</td>\n",
       "      <td>Credit card (automatic)</td>\n",
       "      <td>False</td>\n",
       "    </tr>\n",
       "    <tr>\n",
       "      <th>2666</th>\n",
       "      <td>Male</td>\n",
       "      <td>Yes</td>\n",
       "      <td>No</td>\n",
       "      <td>Yes</td>\n",
       "      <td>No</td>\n",
       "      <td>Fiber optic</td>\n",
       "      <td>No</td>\n",
       "      <td>No</td>\n",
       "      <td>No</td>\n",
       "      <td>No</td>\n",
       "      <td>No</td>\n",
       "      <td>Yes</td>\n",
       "      <td>Month-to-month</td>\n",
       "      <td>Yes</td>\n",
       "      <td>Electronic check</td>\n",
       "      <td>True</td>\n",
       "    </tr>\n",
       "  </tbody>\n",
       "</table>\n",
       "</div>"
      ],
      "text/plain": [
       "       Gender Married Dependents Phone    MultiplePhones     Internet  \\\n",
       "Index                                                                   \n",
       "585    Female     Yes        Yes   Yes               Yes  Fiber optic   \n",
       "1458     Male      No         No   Yes               Yes  Fiber optic   \n",
       "3554     Male      No         No    No  No phone service          DSL   \n",
       "1615     Male      No         No   Yes               Yes           No   \n",
       "2666     Male     Yes         No   Yes                No  Fiber optic   \n",
       "\n",
       "                  Security               Backup            Insurance  \\\n",
       "Index                                                                  \n",
       "585                    Yes                  Yes                   No   \n",
       "1458                    No                  Yes                  Yes   \n",
       "3554                   Yes                   No                  Yes   \n",
       "1615   No internet service  No internet service  No internet service   \n",
       "2666                    No                   No                   No   \n",
       "\n",
       "                   Support                   TV               Movies  \\\n",
       "Index                                                                  \n",
       "585                    Yes                  Yes                  Yes   \n",
       "1458                    No                  Yes                  Yes   \n",
       "3554                   Yes                   No                   No   \n",
       "1615   No internet service  No internet service  No internet service   \n",
       "2666                    No                   No                  Yes   \n",
       "\n",
       "             Contract EBilling              PaymentMethod  Churn  \n",
       "Index                                                             \n",
       "585          Two year       No  Bank transfer (automatic)  False  \n",
       "1458   Month-to-month      Yes  Bank transfer (automatic)   True  \n",
       "3554   Month-to-month       No               Mailed check  False  \n",
       "1615         Two year      Yes    Credit card (automatic)  False  \n",
       "2666   Month-to-month      Yes           Electronic check   True  "
      ]
     },
     "execution_count": 88,
     "metadata": {},
     "output_type": "execute_result"
    }
   ],
   "source": [
    "category_data = data.select_dtypes(exclude=np.number)\n",
    "category_data.sample(5)"
   ]
  },
  {
   "cell_type": "code",
   "execution_count": 89,
   "metadata": {},
   "outputs": [],
   "source": [
    "data = pd.read_csv('train.csv', index_col=0)\n",
    "data2 = pd.read_csv('test.csv', index_col=0) \n",
    "data.head(5)\n",
    "\n",
    "data = data.replace({'Gender': {'Female': 1, 'Male': 0}, \n",
    "                     'Married': {'Yes': 1, 'No': 0}, \n",
    "                     'Phone': {'Yes': 1, 'No': 0},\n",
    "                     'Dependents':{'Yes': 1, 'No': 0} #лучше вообще нахуй убрать, только мешает\n",
    "                    })\n"
   ]
  },
  {
   "cell_type": "code",
   "execution_count": 90,
   "metadata": {},
   "outputs": [
    {
     "name": "stdout",
     "output_type": "stream",
     "text": [
      "       Gender  Senior  Married  Dependents  Tenure  Phone  MonthlyCharges\n",
      "Index                                                                    \n",
      "2884        0       0        1           0      72      1           84.45\n",
      "3286        1       0        0           0       4      1           55.50\n",
      "3086        0       0        1           0      36      1           93.60\n",
      "2944        1       0        0           0       9      1           85.30\n",
      "1089        1       0        1           1      51      1           19.95\n",
      "Train evaluation\n",
      "              precision    recall  f1-score   support\n",
      "\n",
      "       False       0.84      0.90      0.87      1768\n",
      "        True       0.65      0.52      0.58       627\n",
      "\n",
      "    accuracy                           0.80      2395\n",
      "   macro avg       0.75      0.71      0.73      2395\n",
      "weighted avg       0.79      0.80      0.79      2395\n",
      "\n",
      "0.4572688332405495\n",
      "Test evaluation\n",
      "              precision    recall  f1-score   support\n",
      "\n",
      "       False       0.83      0.87      0.85       871\n",
      "        True       0.61      0.52      0.56       325\n",
      "\n",
      "    accuracy                           0.78      1196\n",
      "   macro avg       0.72      0.70      0.71      1196\n",
      "weighted avg       0.77      0.78      0.77      1196\n",
      "\n"
     ]
    },
    {
     "data": {
      "text/plain": [
       "0.4168497873533403"
      ]
     },
     "execution_count": 90,
     "metadata": {},
     "output_type": "execute_result"
    }
   ],
   "source": [
    "numeric_data = data.select_dtypes(include=np.number)\n",
    "print(numeric_data.sample(5))\n",
    "\n",
    "from sklearn.model_selection import train_test_split\n",
    "\n",
    "X_train, X_test, Y_train, Y_test = train_test_split(X_scaled, \n",
    "                                                    data.Churn,\n",
    "                                                    #0.66669\n",
    "                                                    test_size = 0.333,\n",
    "                                                    random_state = 10)\n",
    "\n",
    "from sklearn.linear_model import LogisticRegression\n",
    "from sklearn.model_selection import cross_val_predict\n",
    "from sklearn.metrics import confusion_matrix\n",
    "\n",
    "lr = LogisticRegression()\n",
    "\n",
    "cv_lr_predictions_data = cross_val_predict(lr, X_train, Y_train, cv = 5, n_jobs = -1)\n",
    "\n",
    "print('Train evaluation')\n",
    "print(classification_report(Y_train, cv_lr_predictions_data ))\n",
    "from sklearn.metrics import matthews_corrcoef\n",
    "\n",
    "print(matthews_corrcoef(Y_train, cv_lr_predictions_data ))\n",
    "\n",
    "\n",
    "lr = LogisticRegression().fit(X_train, Y_train)\n",
    "print('Test evaluation')\n",
    "lr_test_predictions = lr.predict(X_test)\n",
    "print(classification_report(Y_test, lr_test_predictions))\n",
    "matthews_corrcoef(Y_test, lr_test_predictions)"
   ]
  },
  {
   "cell_type": "code",
   "execution_count": 30,
   "metadata": {},
   "outputs": [],
   "source": [
    "import csv\n",
    "with open('answer.csv', 'w') as fp:\n",
    "    fp.write('Index,Churn\\n')\n",
    "    for row in range(len(lr_test_predictions)):\n",
    "        fp.write(str(row) + ',' + str(lr_test_predictions[row]) + '\\n')\n"
   ]
  },
  {
   "cell_type": "code",
   "execution_count": 33,
   "metadata": {},
   "outputs": [],
   "source": [
    "def print_csv(data):\n",
    "    with open('lastdaytry.csv', 'w') as fp:\n",
    "        fp.write('Index,Churn\\n')\n",
    "        for row in range(len(data)):\n",
    "            fp.write(str(row) + ',' + str(data[row]) + '\\n')\n"
   ]
  },
  {
   "cell_type": "code",
   "execution_count": 104,
   "metadata": {},
   "outputs": [],
   "source": [
    "print_csv(predictions)"
   ]
  },
  {
   "cell_type": "code",
   "execution_count": null,
   "metadata": {},
   "outputs": [],
   "source": []
  },
  {
   "cell_type": "code",
   "execution_count": 103,
   "metadata": {},
   "outputs": [
    {
     "data": {
      "text/plain": [
       "array([False, False, False, ...,  True, False, False])"
      ]
     },
     "execution_count": 103,
     "metadata": {},
     "output_type": "execute_result"
    }
   ],
   "source": [
    "test = pd.read_csv('test.csv', index_col=0)\n",
    "train = pd.read_csv('train.csv', index_col=0)\n",
    "\n",
    "train = train.pipe(dataPrepare)\n",
    "\n",
    "numeric_data = train.select_dtypes(include=np.number)\n",
    "\n",
    "X_train = numeric_data\n",
    "scaler = preprocessing.StandardScaler().fit(X_train)\n",
    "X_scaled_train = scaler.transform(X_train)\n",
    "\n",
    "test = test.pipe(dataPrepare)[numeric_data.columns]\n",
    "\n",
    "tree_params = {'min_samples_leaf': [20,28,1,13],\n",
    "               'max_depth': [13,17,19,23],\n",
    "               'criterion': ['gini', 'entropy']              \n",
    "              }\n",
    "\n",
    "model = GridSearchCV(DecisionTreeClassifier(),\n",
    "                    tree_params,\n",
    "                    refit=True,\n",
    "                    scoring='f1_macro',\n",
    "                    n_jobs = -1,\n",
    "                    cv=StratifiedKFold(n_splits = 5),\n",
    "                    verbose=2\n",
    "                   )\n",
    "\n",
    "model = DecisionTreeClassifier(min_samples_leaf = 13, max_depth = 12)\n",
    "\n",
    "model.fit(train[numeric_data.columns], train.Churn)\n",
    "\n",
    "predictions = model.predict(test)\n",
    "predictions"
   ]
  },
  {
   "cell_type": "code",
   "execution_count": 184,
   "metadata": {},
   "outputs": [],
   "source": [
    "model1 = LogisticRegression()\n",
    "model1.fit(train[numeric_data.columns], train.Churn)\n",
    "\n",
    "lr_test_predictions = model1.predict(X_scaled_test)"
   ]
  },
  {
   "cell_type": "code",
   "execution_count": null,
   "metadata": {},
   "outputs": [],
   "source": []
  }
 ],
 "metadata": {
  "kernelspec": {
   "display_name": "Python 3",
   "language": "python",
   "name": "python3"
  },
  "language_info": {
   "codemirror_mode": {
    "name": "ipython",
    "version": 3
   },
   "file_extension": ".py",
   "mimetype": "text/x-python",
   "name": "python",
   "nbconvert_exporter": "python",
   "pygments_lexer": "ipython3",
   "version": "3.8.5"
  }
 },
 "nbformat": 4,
 "nbformat_minor": 4
}
